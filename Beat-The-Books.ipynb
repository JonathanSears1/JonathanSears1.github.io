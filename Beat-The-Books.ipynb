{
 "cells": [
  {
   "cell_type": "markdown",
   "metadata": {},
   "source": [
    "# Beat the Books"
   ]
  },
  {
   "cell_type": "markdown",
   "metadata": {},
   "source": [
    "#### A data science project by Jonathan Sears"
   ]
  },
  {
   "cell_type": "markdown",
   "metadata": {},
   "source": [
    "### Goal\n",
    "The main goal of this project is to find a way to profit of of sports betting. There are several reasons I want to do this. First I want to make money, I feel like that is pretty self explanatory. What motivated me more however is how detestable I find the gambling industry to be. Casinos and sports books will happily profit off of people with gambling addictions and have no problem marketing to underage kids. Speaking from experience I know several of my friends and have watched them throw their money away into sports betting since high school. "
   ]
  },
  {
   "cell_type": "markdown",
   "metadata": {},
   "source": [
    "### Approach\n",
    "I plan on using a couple different approaches to try to beat the books. The first approach is to use an arbitrage strategy. The idea behind the arbitrage strategy is to find 2 different books with different odds on the same game with a big enough gap between them so I can bet on two different outcomes of the game and be guaranteed to win money. This is the safest approach as winning money is guaranteed but it is also the slowest, as finding situations like this is pretty rare. I plan on using webscraping to scrape data from different sports books and then analyzing the data to try to identify arbitrage opportunities. A second approach is "
   ]
  },
  {
   "cell_type": "markdown",
   "metadata": {},
   "source": [
    "### Potential Challenges\n",
    "- Assesing risk\n",
    "- accuracy\n",
    "- Different sports have different factors that play into a game environment and outcomes\n",
    "- How can we account for teams changing over time?\n"
   ]
  },
  {
   "cell_type": "markdown",
   "metadata": {},
   "source": [
    "### Mathemtical Toolbox\n",
    "- Expected Value\n",
    "- Law Of Large Numbers\n",
    "- Kelly Criterion\n"
   ]
  },
  {
   "cell_type": "markdown",
   "metadata": {},
   "source": []
  }
 ],
 "metadata": {
  "language_info": {
   "name": "python"
  }
 },
 "nbformat": 4,
 "nbformat_minor": 2
}
